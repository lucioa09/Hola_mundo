{
  "nbformat": 4,
  "nbformat_minor": 0,
  "metadata": {
    "colab": {
      "name": "Red_Neuronal_1.ipynb",
      "provenance": [],
      "collapsed_sections": [],
      "authorship_tag": "ABX9TyM8PpK2dwOpZ+7Iqi9nQjWF",
      "include_colab_link": true
    },
    "kernelspec": {
      "name": "python3",
      "display_name": "Python 3"
    }
  },
  "cells": [
    {
      "cell_type": "markdown",
      "metadata": {
        "id": "view-in-github",
        "colab_type": "text"
      },
      "source": [
        "<a href=\"https://colab.research.google.com/github/lucioa09/Hola_mundo/blob/master/Red_Neuronal_1.ipynb\" target=\"_parent\"><img src=\"https://colab.research.google.com/assets/colab-badge.svg\" alt=\"Open In Colab\"/></a>"
      ]
    },
    {
      "cell_type": "code",
      "metadata": {
        "id": "otRLQfZlbnME",
        "colab_type": "code",
        "colab": {}
      },
      "source": [
        "import numpy as np\n",
        "import scipy as sc\n",
        "import matplotlib.pyplot as plt\n",
        " \n",
        "from sklearn.datasets import make_circles"
      ],
      "execution_count": null,
      "outputs": []
    },
    {
      "cell_type": "code",
      "metadata": {
        "id": "akvQ6Eh-dVR3",
        "colab_type": "code",
        "colab": {
          "base_uri": "https://localhost:8080/",
          "height": 265
        },
        "outputId": "00f1a0cb-67f5-4920-98a9-b20aa34d36a5"
      },
      "source": [
        "# CREAR EL DATASET\n",
        "n = 500\n",
        "p = 2\n",
        "X, Y = make_circles(n_samples=n, factor=0.7, noise=0.05)\n",
        "\n",
        "Y = Y[:, np.newaxis]\n",
        " \n",
        "plt.scatter(X[Y[:, 0]==0,0], X[Y[:, 0]==0,1], c=\"skyblue\")\n",
        "plt.scatter(X[Y[:, 0]==1,0], X[Y[:, 0]==1,1], c=\"salmon\")\n",
        "plt.axis(\"equal\")\n",
        "plt.show()"
      ],
      "execution_count": null,
      "outputs": [
        {
          "output_type": "display_data",
          "data": {
            "image/png": "[encoded data removed]",
            "text/plain": [
              "<Figure size 432x288 with 1 Axes>"
            ]
          },
          "metadata": {
            "tags": [],
            "needs_background": "light"
          }
        }
      ]
    },
    {
      "cell_type": "code",
      "metadata": {
        "id": "su7m7Brpen0w",
        "colab_type": "code",
        "colab": {}
      },
      "source": [
        "# CLASE DE LA CAPA DE LA RED\n",
        " \n",
        "class neural_layer(): \n",
        " def __init__(self, n_conn, n_neur, act_f):\n",
        "  self.act_f = act_f\n",
        "  self.b = np.random.rand(1,n_neur) *2 -1\n",
        "  self.W = np.random.rand(n_conn,n_neur) *2 -1"
      ],
      "execution_count": null,
      "outputs": []
    },
    {
      "cell_type": "code",
      "metadata": {
        "id": "-j7Ct9uIjUfN",
        "colab_type": "code",
        "colab": {
          "base_uri": "https://localhost:8080/",
          "height": 282
        },
        "outputId": "d77ef00f-2569-4dd2-f511-be4540d8b95c"
      },
      "source": [
        "# FUNCION DE ACTIVACION\n",
        " \n",
        "sigm = (lambda x: 1/(1 + np.e ** (-x)),\n",
        "       lambda x: x * (1-x))\n",
        " \n",
        "relu = lambda x: np.maximum(0, x)\n",
        " \n",
        "_x = np.linspace(-5, 5, 100)\n",
        "plt.plot(_x,relu(_x))"
      ],
      "execution_count": null,
      "outputs": [
        {
          "output_type": "execute_result",
          "data": {
            "text/plain": [
              "[<matplotlib.lines.Line2D at 0x7f96b99293c8>]"
            ]
          },
          "metadata": {
            "tags": []
          },
          "execution_count": 10
        },
        {
          "output_type": "display_data",
          "data": {
            "image/png": "[encoded data removed]",
            "text/plain": [
              "<Figure size 432x288 with 1 Axes>"
            ]
          },
          "metadata": {
            "tags": [],
            "needs_background": "light"
          }
        }
      ]
    },
    {
      "cell_type": "code",
      "metadata": {
        "id": "j1Vho4eDKdkB",
        "colab_type": "code",
        "colab": {}
      },
      "source": [
        "l0 = neural_layer(p, 4, sigm)\n",
        "l1 = neural_layer(4, 8, sigm)\n",
        "# ...\n",
        " \n",
        "def create_nn(topology, act_f):\n",
        " \n",
        "  nn = []\n",
        " \n",
        "  for l, layer in enumerate(topology[:-1]):\n",
        " \n",
        "    nn.append(neural_layer(topology[l], topology[l+1], act_f))\n",
        "  return nn"
      ],
      "execution_count": null,
      "outputs": []
    },
    {
      "cell_type": "code",
      "metadata": {
        "id": "HGAnKuquSTPf",
        "colab_type": "code",
        "colab": {
          "base_uri": "https://localhost:8080/",
          "height": 34
        },
        "outputId": "b13d9426-5336-463c-8c82-1c4b4bcdc00c"
      },
      "source": [
        "topology = [p, 4, 8, 1]\n",
        " \n",
        "neural_net = create_nn(topology, sigm)\n",
        " \n",
        "l2_cost = (lambda Yp, Yr: np.mean((Yp - Yr) ** 2),\n",
        "           lambda Yp, Yr: (Yp - Yr))\n",
        " \n",
        " \n",
        "def train(neural_net, X, Y, l2_cost, lr=0.5, train=True):\n",
        "  \n",
        "  out = [(None, X)]\n",
        " \n",
        "  # Forward pass\n",
        "  for l, layer in enumerate(neural_net):\n",
        "    \n",
        "    z = out[-1][1] @ neural_net[l].W + neural_net[l].b\n",
        "    a = neural_net[l].act_f[0](z)\n",
        "    \n",
        "    out.append((z, a))\n",
        "  \n",
        "  if train:\n",
        " \n",
        "    # Backward pass\n",
        "    deltas = []\n",
        " \n",
        "    for l in reversed(range(0, len(neural_net))):\n",
        " \n",
        "      z = out[l+1][0]\n",
        "      a = out[l+1][1]\n",
        " \n",
        "     \n",
        "      if l == len(neural_net) - 1:\n",
        "        deltas.insert(0, l2_cost[1](a, Y) * neural_net[l].act_f[1](a))\n",
        "      else:\n",
        "        deltas.insert(0, deltas[0] @ _W.T * neural_net[l].act_f[1](a))\n",
        "        \n",
        "      _W = neural_net[l].W\n",
        "      \n",
        "      # Gradient descent\n",
        "      neural_net[l].b = neural_net[l].b - np.mean(deltas[0], axis=0, keepdims=True) * lr\n",
        "      neural_net[l].W = neural_net[l].W - out[l][1].T @ deltas[0] * lr\n",
        " \n",
        "  return out[-1][1]\n",
        " \n",
        "train(neural_net, X, Y, l2_cost, 0.5)\n",
        " \n",
        "print(\"\")"
      ],
      "execution_count": null,
      "outputs": [
        {
          "output_type": "stream",
          "text": [
            "\n"
          ],
          "name": "stdout"
        }
      ]
    },
    {
      "cell_type": "code",
      "metadata": {
        "id": "k9-cQnXsN3wC",
        "colab_type": "code",
        "colab": {}
      },
      "source": [
        "import time\n",
        "from IPython.display import clear_output\n",
        " \n",
        "neural_n = create_nn(topology, sigm)\n",
        " \n",
        "loss = []\n",
        " \n",
        "for i in range(5000):\n",
        " \n",
        "  # Entrenemos a la red!\n",
        "  pY = train(neural_n, X, Y, l2_cost, lr = 0.005)\n",
        " \n",
        "  if i % 25 == 0:\n",
        " \n",
        "    loss.append(l2_cost[0](pY, Y))\n",
        " \n",
        "    res = 50\n",
        " \n",
        "    _x0 = np.linspace(-1.5, 1.5, res)\n",
        "    _x1 = np.linspace(-1.5, 1.5, res)\n",
        " \n",
        "    _Y = np.zeros((res, res))\n",
        " \n",
        "    for i0, x0 in enumerate(_x0):\n",
        "      for i1, x1 in enumerate(_x1):\n",
        "        _Y[i0,i1] = train(neural_n, np.array([[x0, x1]]), Y, l2_cost, train=False)[0][0]\n",
        " \n",
        "    plt.pcolormesh(_x0, _x1, _Y, cmap=\"coolwarm\")\n",
        "    plt.axis(\"equal\")\n",
        " \n",
        "    plt.scatter(X[Y[:, 0] == 0, 0], X[Y[:, 0] == 0, 1], c=\"skyblue\")\n",
        "    plt.scatter(X[Y[:, 0] == 1, 0], X[Y[:, 0] == 1, 1], c=\"salmon\")\n",
        " \n",
        "    clear_output(wait=True)\n",
        "    plt.show()\n",
        "    plt.plot(range(len(loss)), loss)\n",
        "    plt.show()\n",
        "    time.sleep(0.5)"
      ],
      "execution_count": null,
      "outputs": []
    }
  ]
}