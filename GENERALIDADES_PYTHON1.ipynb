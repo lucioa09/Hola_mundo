{
  "nbformat": 4,
  "nbformat_minor": 0,
  "metadata": {
    "colab": {
      "name": "GENERALIDADES_PYTHON1.ipynb",
      "provenance": [],
      "collapsed_sections": [],
      "include_colab_link": true
    },
    "kernelspec": {
      "name": "python3",
      "display_name": "Python 3"
    }
  },
  "cells": [
    {
      "cell_type": "markdown",
      "metadata": {
        "id": "view-in-github",
        "colab_type": "text"
      },
      "source": [
        "<a href=\"https://colab.research.google.com/github/lucioa09/Hola_mundo/blob/master/GENERALIDADES_PYTHON1.ipynb\" target=\"_parent\"><img src=\"https://colab.research.google.com/assets/colab-badge.svg\" alt=\"Open In Colab\"/></a>"
      ]
    },
    {
      "cell_type": "code",
      "metadata": {
        "id": "eS8wWpdgqlQF",
        "colab_type": "code",
        "colab": {
          "base_uri": "https://localhost:8080/",
          "height": 86
        },
        "outputId": "c54d9ab7-d116-47ee-a984-f97c29b117c5"
      },
      "source": [
        "matri = []\n",
        "filas = int(input(\"cantidad de filas: \"))\n",
        "columnas = int(input(\"cantidad de columnas: \"))\n",
        " \n",
        "for i in range(filas):\n",
        " matri.append([0]*columnas)\n",
        " \n",
        "for f in range (filas):\n",
        " for c in range (columnas):\n",
        "   matri[f][c] = int(input(\"Elemento %d, %d : \"% (f,c)))\n",
        " \n",
        "print (matri)"
      ],
      "execution_count": null,
      "outputs": [
        {
          "output_type": "stream",
          "text": [
            "cantidad de filas: 1\n",
            "cantidad de columnas: 1\n",
            "Elemento 0, 0 : 1\n",
            "[[1]]\n"
          ],
          "name": "stdout"
        }
      ]
    },
    {
      "cell_type": "code",
      "metadata": {
        "id": "48SeEEe1XrCd",
        "colab_type": "code",
        "colab": {}
      },
      "source": [
        "pirata = []\n",
        "n = 0\n",
        "filas  = int(input(\"cantidad de filas: \"))\n",
        "columnas  = int(input(\"cantidad de columnas: \"))\n",
        "for i in range(filas):\n",
        " pirata.append([0]*columnas)\n",
        "print (pirata)\n",
        " \n",
        "for f in range(filas):\n",
        " for c in range (columnas):\n",
        "   n = n+1\n",
        "   pirata[f][c] = n\n",
        "print (pirata)"
      ],
      "execution_count": null,
      "outputs": []
    },
    {
      "cell_type": "code",
      "metadata": {
        "id": "ssNrkWa3FN1y",
        "colab_type": "code",
        "colab": {
          "base_uri": "https://localhost:8080/",
          "height": 86
        },
        "outputId": "0af932da-c275-4925-d263-56b6888e507c"
      },
      "source": [
        "print(\"hola mundo\")\n",
        "Z = (input(\"ingrese Z: \"))\n",
        "print(\"el valor de Z es: \",Z)\n",
        "if(Z== \"Juan\"):\n",
        " print(\"clave correcta\")\n",
        " H=0\n",
        "else:\n",
        " H=20\n",
        " print(\"clave incorrecta\")"
      ],
      "execution_count": null,
      "outputs": [
        {
          "output_type": "stream",
          "text": [
            "hola mundo\n",
            "ingrese Z: Juan\n",
            "el valor de Z es:  Juan\n",
            "clave correcta\n"
          ],
          "name": "stdout"
        }
      ]
    },
    {
      "cell_type": "code",
      "metadata": {
        "id": "IePP6nQYHKZh",
        "colab_type": "code",
        "colab": {
          "base_uri": "https://localhost:8080/",
          "height": 69
        },
        "outputId": "4c31e8ce-ed10-44ec-c430-ea14eb53ecc5"
      },
      "source": [
        "X=0\n",
        "while H<10:\n",
        " X = int(input(\"ingresé X\"))\n",
        " Y = int(input(\"ingresé Y\"))\n",
        " H=X+Y\n",
        " print(\"la suma es\",H)"
      ],
      "execution_count": null,
      "outputs": [
        {
          "output_type": "stream",
          "text": [
            "ingresé X8\n",
            "ingresé Y2\n",
            "la suma es 10\n"
          ],
          "name": "stdout"
        }
      ]
    },
    {
      "cell_type": "code",
      "metadata": {
        "id": "bgWeIgecegIk",
        "colab_type": "code",
        "colab": {
          "base_uri": "https://localhost:8080/",
          "height": 103
        },
        "outputId": "ea864c00-bced-48de-e326-5ed2b865e660"
      },
      "source": [
        "for i in range (5):\n",
        " print(\"lucio\",i)"
      ],
      "execution_count": null,
      "outputs": [
        {
          "output_type": "stream",
          "text": [
            "lucio 0\n",
            "lucio 1\n",
            "lucio 2\n",
            "lucio 3\n",
            "lucio 4\n"
          ],
          "name": "stdout"
        }
      ]
    },
    {
      "cell_type": "code",
      "metadata": {
        "id": "iaawpEsoi2gl",
        "colab_type": "code",
        "colab": {
          "base_uri": "https://localhost:8080/",
          "height": 34
        },
        "outputId": "e7ba87c1-acba-4b63-ac9d-969265a46fa5"
      },
      "source": [
        "numeros = [1, 2, 4, 3, 5, 8, 6]\n",
        "for n in numeros:\n",
        "    if n == 7:\n",
        "        break\n",
        "else:\n",
        "    print('No se encontró el número 7')"
      ],
      "execution_count": null,
      "outputs": [
        {
          "output_type": "stream",
          "text": [
            "No se encontró el número 7\n"
          ],
          "name": "stdout"
        }
      ]
    },
    {
      "cell_type": "code",
      "metadata": {
        "id": "s2PWmuyCYTLX",
        "colab_type": "code",
        "colab": {
          "base_uri": "https://localhost:8080/",
          "height": 297
        },
        "outputId": "b27a0f63-e5bd-498e-906a-3d4e8516bd1e"
      },
      "source": [
        "import matplotlib.pyplot as plt\n",
        "x =  [1,2,3,4,5,6,7,8,9]\n",
        "y1 = [1,4,9,16,25,36,49,64,81]\n",
        "y2 = [9,8,7,6,5,4,3,2,1]\n",
        "plt.plot(x, y1, label = \"datos A\")\n",
        "plt.plot(x, y2, label = \"datos B\")\n",
        "plt.xlabel(\"eje x\")\n",
        "plt.ylabel(\"eje y\")\n",
        "plt.title(\"GRÁFICA EJEMPLO\")\n",
        "plt.legend()\n",
        "plt.show()"
      ],
      "execution_count": null,
      "outputs": [
        {
          "output_type": "display_data",
          "data": {
            "image/png": "[encoded data removed]",
            "text/plain": [
              "<Figure size 432x288 with 1 Axes>"
            ]
          },
          "metadata": {
            "tags": [],
            "needs_background": "light"
          }
        }
      ]
    },
    {
      "cell_type": "code",
      "metadata": {
        "id": "mwcAx9txFvlt",
        "colab_type": "code",
        "colab": {
          "base_uri": "https://localhost:8080/",
          "height": 448
        },
        "outputId": "9d8b8e5c-7abe-46ed-d7fe-b5fb16e537f1"
      },
      "source": [
        "eje_x = []\n",
        "eje_y = []\n",
        "a = eje_x      # array que recoge los valores del eje X\n",
        "b = eje_y      # arraw que recoge los valores del eje y\n",
        "z = 0          # indicador que arranca en uno y se imprime al pedir los datos del array a = eje_x\n",
        "\n",
        "expo = int(input(\"ingrese el valor a elevar los datos: \"))  # variable que determina a que número elevar los datos del array a\n",
        "\n",
        "n = int(input(\"ingrese la cantidad de datos: \"))            # variable que determina la cantidad de datos a ingresar en el array a y b\n",
        "for i in range(n):\n",
        "  z = z+1\n",
        "  a.append(int(input(\"ingrese el valor %d: \"% (z))))        # ingreso de datos al array a\n",
        "  b.append(a[i] ** expo)                                    # ingreso de datos al array b calculados a la potencia expo\n",
        "print(a)\n",
        "print(b)\n",
        "\n",
        "plt.plot(a,b,label=\"GRAFICA DE POTENCIA %d\"%(expo))\n",
        "plt.xlabel(\"Datos ingresados\")\n",
        "plt.ylabel(\"Datos elevados\")\n",
        "plt.title(\"POTENCIAS DE %d \"% (expo))\n",
        "plt.legend()\n",
        "plt.show()"
      ],
      "execution_count": null,
      "outputs": [
        {
          "output_type": "stream",
          "text": [
            "ingrese el valor a elevar los datos: 1\n",
            "ingrese la cantidad de datos: 5\n",
            "ingrese el valor 1: 1\n",
            "ingrese el valor 2: 2\n",
            "ingrese el valor 3: 3\n",
            "ingrese el valor 4: 4\n",
            "ingrese el valor 5: 5\n",
            "[1, 2, 3, 4, 5]\n",
            "[1, 2, 3, 4, 5]\n"
          ],
          "name": "stdout"
        },
        {
          "output_type": "display_data",
          "data": {
            "image/png": "[encoded data removed]",
            "text/plain": [
              "<Figure size 432x288 with 1 Axes>"
            ]
          },
          "metadata": {
            "tags": [],
            "needs_background": "light"
          }
        }
      ]
    }
  ]
}